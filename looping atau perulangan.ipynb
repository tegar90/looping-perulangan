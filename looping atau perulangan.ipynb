{
 "cells": [
  {
   "cell_type": "code",
   "execution_count": 1,
   "id": "de617f8e",
   "metadata": {},
   "outputs": [
    {
     "name": "stdout",
     "output_type": "stream",
     "text": [
      "1\n",
      "2\n",
      "3\n",
      "4\n",
      "5\n",
      "6\n",
      "7\n",
      "8\n",
      "9\n",
      "10\n"
     ]
    }
   ],
   "source": [
    "# for in range\n",
    "# print 1 - 10\n",
    "\n",
    "for i in range(1,11):\n",
    "    print(i)\n",
    "    \n",
    "\n"
   ]
  },
  {
   "cell_type": "code",
   "execution_count": 3,
   "id": "440e2741",
   "metadata": {},
   "outputs": [
    {
     "name": "stdout",
     "output_type": "stream",
     "text": [
      "10\n",
      "20\n",
      "30\n",
      "40\n",
      "50\n",
      "60\n",
      "70\n",
      "80\n",
      "90\n",
      "100\n"
     ]
    }
   ],
   "source": [
    "#print 10 20 30 40 --- 100\n",
    "\n",
    "for i in range(1,11):\n",
    "    print(i*10)\n",
    "\n"
   ]
  },
  {
   "cell_type": "code",
   "execution_count": 5,
   "id": "3ef700dd",
   "metadata": {},
   "outputs": [
    {
     "name": "stdout",
     "output_type": "stream",
     "text": [
      "10\n",
      "20\n",
      "30\n",
      "40\n",
      "50\n",
      "60\n",
      "70\n",
      "80\n",
      "90\n",
      "100\n"
     ]
    }
   ],
   "source": [
    "for i in range(10,110,10):\n",
    "    print(i)"
   ]
  },
  {
   "cell_type": "code",
   "execution_count": 15,
   "id": "a673daf1",
   "metadata": {},
   "outputs": [
    {
     "name": "stdout",
     "output_type": "stream",
     "text": [
      "2.5\n",
      "2.25\n",
      "2.0\n",
      "1.75\n",
      "1.5\n",
      "1.25\n",
      "1.0\n",
      "0.75\n",
      "0.5\n",
      "0.25\n"
     ]
    }
   ],
   "source": [
    "# 10 9 8 7\n",
    "\n",
    "for i in range(10,0,-1):\n",
    "    print(i/4)"
   ]
  },
  {
   "cell_type": "code",
   "execution_count": 17,
   "id": "9a0b0fc5",
   "metadata": {},
   "outputs": [
    {
     "name": "stdout",
     "output_type": "stream",
     "text": [
      "1\n",
      "-2\n",
      "3\n",
      "-4\n",
      "5\n",
      "-6\n",
      "7\n",
      "-8\n",
      "9\n",
      "-10\n"
     ]
    }
   ],
   "source": [
    "# 1 -2 3 -4 5 -6 7 -8 9 -10\n",
    "\n",
    "sign = 1\n",
    "for i in range(1,11):\n",
    "    print(i*sign)\n",
    "    sign *=-1\n",
    "    "
   ]
  },
  {
   "cell_type": "code",
   "execution_count": 28,
   "id": "da2284d8",
   "metadata": {},
   "outputs": [
    {
     "name": "stdout",
     "output_type": "stream",
     "text": [
      "isikan bilangan:4\n",
      "isikan pangkat:2\n",
      "faktorial dari 4! adalah 16\n"
     ]
    }
   ],
   "source": [
    "# faktorial => linput 4! = 4 * 3 * 2 * 1 = 24\n",
    "\n",
    "number = int(input('isikan bilangan:'))\n",
    "pangkat = int(input('isikan pangkat:'))\n",
    "\n",
    "result = 1\n",
    "for i in range(1,number+1):\n",
    "    result = result * pangkat\n",
    "    \n",
    "print(f\"faktorial dari {number}! adalah {result}\")\n",
    "\n"
   ]
  },
  {
   "cell_type": "code",
   "execution_count": 32,
   "id": "158335a1",
   "metadata": {},
   "outputs": [
    {
     "name": "stdout",
     "output_type": "stream",
     "text": [
      "isikan bilangan:3\n",
      "isikan pangkat:2\n",
      "3 pangkat 2 adalah 4\n"
     ]
    }
   ],
   "source": [
    "number = int(input('isikan bilangan:'))\n",
    "pangkat = int(input('isikan pangkat:'))\n",
    "\n",
    "result = 1\n",
    "for i in range(1,pangkat+1):\n",
    "    result = result * pangkat\n",
    "    \n",
    "print(f\"{number} pangkat {pangkat} adalah {result}\")\n",
    "\n"
   ]
  },
  {
   "cell_type": "code",
   "execution_count": 8,
   "id": "bf4c505f",
   "metadata": {},
   "outputs": [
    {
     "name": "stdout",
     "output_type": "stream",
     "text": [
      "isikan bilangan:32\n",
      "32 adalah bukan bilangan prima\n"
     ]
    }
   ],
   "source": [
    "# cek bilangan prima\n",
    "# bilangan prima adalah bilangan yang hanya habis dibagi dengan bilangan itu sendiri dan 1\n",
    "# bilangan. prima punya 2 faktor\n",
    "# jika faktor == 0 maka nilai faktor == 2 maka bilangan prima\n",
    "\n",
    "number = int(input('isikan bilangan:'))\n",
    "faktor = 0\n",
    "for i in range(1,number+1):\n",
    "    sisa = number % i\n",
    "    if number % i == 0:\n",
    "        faktor = faktor +1\n",
    "\n",
    "if faktor == 2:\n",
    "    print(f\"{number} bilangan prima\")\n",
    "else:\n",
    "    print(f\"{number} adalah bukan bilangan prima\")\n",
    "    \n",
    "\n",
    "        \n",
    "\n"
   ]
  },
  {
   "cell_type": "code",
   "execution_count": 16,
   "id": "62116f29",
   "metadata": {},
   "outputs": [
    {
     "name": "stdout",
     "output_type": "stream",
     "text": [
      "22\n",
      "u\n",
      "0 u\n",
      "1 n\n",
      "2 i\n",
      "3 v\n",
      "4 e\n",
      "5 r\n",
      "6 s\n",
      "7 i\n",
      "8 t\n",
      "9 a\n",
      "10 s\n",
      "11  \n",
      "12 n\n",
      "13 u\n",
      "14 s\n",
      "15 a\n",
      "16  \n",
      "17 p\n",
      "18 u\n",
      "19 t\n",
      "20 r\n",
      "21 a\n"
     ]
    }
   ],
   "source": [
    "kampus = \"universitas nusa putra\" # panjang = 22\n",
    "print(len(kampus))\n",
    "print(kampus[0])\n",
    "\n",
    "for i,huruf in enumerate (kampus):\n",
    "    print(i,huruf)\n"
   ]
  },
  {
   "cell_type": "code",
   "execution_count": 5,
   "id": "1eac3a7e",
   "metadata": {},
   "outputs": [
    {
     "name": "stdout",
     "output_type": "stream",
     "text": [
      "jumlah huruf vokal a:3\n",
      "jumlah huruf vokal i:2\n",
      "jumlah huruf vokal u:3\n",
      "jumlah huruf vokal e:1\n",
      "jumlah huruf vokal o:0\n",
      "jumlah huruf adalah9\n"
     ]
    }
   ],
   "source": [
    "#menghitung jumlah huruf vokal\n",
    "\n",
    "kampus = \"universitas nusa putra\" # panjang = 22\n",
    "panjang = len(kampus)\n",
    "\n",
    "\n",
    "vokal_a=0\n",
    "vokal_i=0\n",
    "vokal_u=0\n",
    "vokal_e=0\n",
    "vokal_o=0\n",
    "for i in range(0,panjang):\n",
    "    if kampus[i]=='a'or kampus[i]=='A':\n",
    "        vokal_a +=1\n",
    "    elif kampus[i]=='i'or kampus[i]=='I':\n",
    "        vokal_i +=1\n",
    "    elif kampus[i]=='u'or kampus[i]=='U':\n",
    "        vokal_u +=1\n",
    "    elif kampus[i]=='e'or kampus[i]=='E':\n",
    "        vokal_e +=1\n",
    "    elif kampus[i]=='o'or kampus[i]=='O':\n",
    "        vokal_o +=1\n",
    "\n",
    "print(f\"jumlah huruf vokal a:{vokal_a}\")        \n",
    "print(f\"jumlah huruf vokal i:{vokal_i}\")\n",
    "print(f\"jumlah huruf vokal u:{vokal_u}\")\n",
    "print(f\"jumlah huruf vokal e:{vokal_e}\")        \n",
    "print(f\"jumlah huruf vokal o:{vokal_o}\")        \n",
    "print(f\"jumlah huruf adalah{vokal_a + vokal_i + vokal_u + vokal_e + vokal_o}\")\n",
    "\n",
    "\n"
   ]
  },
  {
   "cell_type": "code",
   "execution_count": 5,
   "id": "920331c1",
   "metadata": {},
   "outputs": [
    {
     "name": "stdout",
     "output_type": "stream",
     "text": [
      "isikan kalimatapa\n",
      " apa adalah palindrome\n",
      "apakah mau mengulang program?: Y/Tt\n"
     ]
    }
   ],
   "source": [
    "ulang = \"y\"\n",
    "while ( ulang==\"y\"):\n",
    "    kalimat = input(\"isikan kalimat\")\n",
    "    panjang_kalimat =len(kalimat)\n",
    "\n",
    "#aku => uka\n",
    "#mengecek kalimat palindrome atau bukan\n",
    "#palindrome => kalimat yang dibaca dari kiri > kanan dan\n",
    "#kanan > kekiri\n",
    "#katak => palindrome\n",
    "#kasur rusak => palindrome\n",
    "    ispalindrome = True \n",
    "    for i in range(0,panjang_kalimat):\n",
    "        urut = kalimat[i]\n",
    "        kebalikan = kalimat [panjang_kalimat - i-1 ]\n",
    "        if urut != kebalikan:\n",
    "            ispalindrome = False\n",
    "            break\n",
    "    if ispalindrome== True:\n",
    "        print (f\" {kalimat} adalah palindrome\")\n",
    "    else:\n",
    "        print (f\" {kalimat} bukan palindrome\")\n",
    "    ulang = input('apakah mau mengulang program?: Y/N')"
   ]
  },
  {
   "cell_type": "code",
   "execution_count": 1,
   "id": "ce600943",
   "metadata": {},
   "outputs": [
    {
     "name": "stdout",
     "output_type": "stream",
     "text": [
      "i: 1 dan j :1\n",
      "i: 1 dan j :2\n",
      "i: 1 dan j :3\n",
      "i: 1 dan j :4\n",
      "i: 2 dan j :1\n",
      "i: 2 dan j :2\n",
      "i: 2 dan j :3\n",
      "i: 2 dan j :4\n",
      "i: 3 dan j :1\n",
      "i: 3 dan j :2\n",
      "i: 3 dan j :3\n",
      "i: 3 dan j :4\n",
      "i: 4 dan j :1\n",
      "i: 4 dan j :2\n",
      "i: 4 dan j :3\n",
      "i: 4 dan j :4\n"
     ]
    }
   ],
   "source": [
    "#nested for\n",
    "\n",
    "for i in range(1,5):\n",
    "    for j in range(1,5):\n",
    "        print(f\"i: {i} dan j :{j}\")"
   ]
  },
  {
   "cell_type": "code",
   "execution_count": 4,
   "id": "eae37649",
   "metadata": {},
   "outputs": [
    {
     "name": "stdout",
     "output_type": "stream",
     "text": [
      "isikan bilangankamu\n",
      "k u\n",
      "a m\n",
      "m a\n",
      "u k\n"
     ]
    }
   ],
   "source": []
  },
  {
   "cell_type": "code",
   "execution_count": null,
   "id": "36480ee6",
   "metadata": {},
   "outputs": [],
   "source": []
  },
  {
   "cell_type": "code",
   "execution_count": null,
   "id": "a61a904f",
   "metadata": {},
   "outputs": [],
   "source": []
  },
  {
   "cell_type": "code",
   "execution_count": null,
   "id": "e28ccee3",
   "metadata": {},
   "outputs": [],
   "source": []
  }
 ],
 "metadata": {
  "kernelspec": {
   "display_name": "Python 3 (ipykernel)",
   "language": "python",
   "name": "python3"
  },
  "language_info": {
   "codemirror_mode": {
    "name": "ipython",
    "version": 3
   },
   "file_extension": ".py",
   "mimetype": "text/x-python",
   "name": "python",
   "nbconvert_exporter": "python",
   "pygments_lexer": "ipython3",
   "version": "3.9.12"
  }
 },
 "nbformat": 4,
 "nbformat_minor": 5
}
